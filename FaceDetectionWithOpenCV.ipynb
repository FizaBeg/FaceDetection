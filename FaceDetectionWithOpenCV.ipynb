{
 "cells": [
  {
   "cell_type": "code",
   "execution_count": 1,
   "metadata": {},
   "outputs": [],
   "source": [
    "# checking opencv version-\n",
    "# importing open cv\n",
    "import cv2"
   ]
  },
  {
   "cell_type": "code",
   "execution_count": 2,
   "metadata": {},
   "outputs": [
    {
     "name": "stdout",
     "output_type": "stream",
     "text": [
      "4.5.2\n"
     ]
    }
   ],
   "source": [
    "# print version number\n",
    "print(cv2.__version__)"
   ]
  },
  {
   "cell_type": "code",
   "execution_count": 3,
   "metadata": {},
   "outputs": [],
   "source": [
    "# In this project we are using version 4.5.2 of opencv for face detection."
   ]
  },
  {
   "cell_type": "code",
   "execution_count": 4,
   "metadata": {},
   "outputs": [],
   "source": [
    "# Load the pretrained model\n",
    "classifier = cv2.CascadeClassifier(\"haarcascades/haarcascade_frontalface_default.xml\")\n",
    "# or u can import CascadeClassifier and then call it directly\n",
    "# from cv2 import CascadeClassifier\n",
    "# classifier = CascadeClassifier(\"haarcascade_frontalface_default.xml\")"
   ]
  },
  {
   "cell_type": "code",
   "execution_count": 5,
   "metadata": {},
   "outputs": [],
   "source": [
    "# loading the photograph so to detect faces\n",
    "# 1. import imread\n",
    "from cv2 import imread\n",
    "# 2. load the photograph\n",
    "pixels = imread(\"imageforFDTestCAse.jpg\")"
   ]
  },
  {
   "cell_type": "code",
   "execution_count": 6,
   "metadata": {},
   "outputs": [
    {
     "name": "stdout",
     "output_type": "stream",
     "text": [
      "[788 715  48  48]\n",
      "[593 155 256 256]\n",
      "[ 18 514 149 149]\n",
      "[296 328 244 244]\n",
      "[ 130 1357   53   53]\n"
     ]
    }
   ],
   "source": [
    "# Now perform Face detection using detectMultiScale\n",
    "\n",
    "bbox = classifier.detectMultiScale(pixels)\n",
    "# This function will return bounding boxes for allfaces in a photograph\n",
    "for box in bbox:\n",
    "    print(box)\n",
    "    "
   ]
  },
  {
   "cell_type": "code",
   "execution_count": 7,
   "metadata": {},
   "outputs": [],
   "source": [
    "# Print bounding box for each detected face\n",
    "for box in bbox:\n",
    "    #extract\n",
    "    x,y,w,h =box\n",
    "    x2,y2 = x+w, y+h\n",
    "    # draw a rectangle over the pixels found for face\n",
    "    cv2.rectangle(pixels,(x,y),(x2,y2),(0,0,255),1)"
   ]
  },
  {
   "cell_type": "code",
   "execution_count": 8,
   "metadata": {},
   "outputs": [],
   "source": [
    "#show the image\n",
    "cv2.imshow('face detection', pixels)\n",
    "#keep the window open until we press a key\n",
    "cv2.waitKey(0)\n",
    "#close the window\n",
    "cv2.destroyAllWindows()"
   ]
  },
  {
   "cell_type": "code",
   "execution_count": null,
   "metadata": {},
   "outputs": [],
   "source": []
  },
  {
   "cell_type": "raw",
   "metadata": {},
   "source": []
  },
  {
   "cell_type": "markdown",
   "metadata": {},
   "source": [
    "\n",
    "        "
   ]
  },
  {
   "cell_type": "code",
   "execution_count": null,
   "metadata": {},
   "outputs": [],
   "source": []
  },
  {
   "cell_type": "code",
   "execution_count": null,
   "metadata": {},
   "outputs": [],
   "source": []
  },
  {
   "cell_type": "code",
   "execution_count": null,
   "metadata": {},
   "outputs": [],
   "source": []
  }
 ],
 "metadata": {
  "kernelspec": {
   "display_name": "Python 3",
   "language": "python",
   "name": "python3"
  },
  "language_info": {
   "codemirror_mode": {
    "name": "ipython",
    "version": 3
   },
   "file_extension": ".py",
   "mimetype": "text/x-python",
   "name": "python",
   "nbconvert_exporter": "python",
   "pygments_lexer": "ipython3",
   "version": "3.8.3"
  }
 },
 "nbformat": 4,
 "nbformat_minor": 4
}
