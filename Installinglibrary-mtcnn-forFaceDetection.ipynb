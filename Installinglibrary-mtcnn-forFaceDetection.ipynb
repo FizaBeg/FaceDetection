{
 "cells": [
  {
   "cell_type": "code",
   "execution_count": 1,
   "metadata": {},
   "outputs": [
    {
     "name": "stdout",
     "output_type": "stream",
     "text": [
      "Collecting mtcnn\n",
      "  Downloading mtcnn-0.1.1-py3-none-any.whl (2.3 MB)\n",
      "Requirement already satisfied: keras>=2.0.0 in c:\\users\\fiza\\anaconda3\\lib\\site-packages (from mtcnn) (2.2.4)\n",
      "Requirement already satisfied: opencv-python>=4.1.0 in c:\\users\\fiza\\anaconda3\\lib\\site-packages (from mtcnn) (4.5.2.52)\n",
      "Requirement already satisfied: keras-preprocessing>=1.0.5 in c:\\users\\fiza\\anaconda3\\lib\\site-packages (from keras>=2.0.0->mtcnn) (1.1.2)\n",
      "Requirement already satisfied: keras-applications>=1.0.6 in c:\\users\\fiza\\anaconda3\\lib\\site-packages (from keras>=2.0.0->mtcnn) (1.0.8)\n",
      "Requirement already satisfied: scipy>=0.14 in c:\\users\\fiza\\anaconda3\\lib\\site-packages (from keras>=2.0.0->mtcnn) (1.4.1)\n",
      "Requirement already satisfied: h5py in c:\\users\\fiza\\anaconda3\\lib\\site-packages (from keras>=2.0.0->mtcnn) (3.1.0)\n",
      "Requirement already satisfied: six>=1.9.0 in c:\\users\\fiza\\anaconda3\\lib\\site-packages (from keras>=2.0.0->mtcnn) (1.15.0)\n",
      "Requirement already satisfied: pyyaml in c:\\users\\fiza\\anaconda3\\lib\\site-packages (from keras>=2.0.0->mtcnn) (5.3.1)\n",
      "Requirement already satisfied: numpy>=1.9.1 in c:\\users\\fiza\\anaconda3\\lib\\site-packages (from keras>=2.0.0->mtcnn) (1.19.5)\n",
      "Installing collected packages: mtcnn\n",
      "Successfully installed mtcnn-0.1.1\n",
      "Note: you may need to restart the kernel to use updated packages.\n"
     ]
    }
   ],
   "source": [
    "pip install mtcnn"
   ]
  },
  {
   "cell_type": "code",
   "execution_count": null,
   "metadata": {},
   "outputs": [],
   "source": []
  }
 ],
 "metadata": {
  "kernelspec": {
   "display_name": "Python 3",
   "language": "python",
   "name": "python3"
  },
  "language_info": {
   "codemirror_mode": {
    "name": "ipython",
    "version": 3
   },
   "file_extension": ".py",
   "mimetype": "text/x-python",
   "name": "python",
   "nbconvert_exporter": "python",
   "pygments_lexer": "ipython3",
   "version": "3.8.3"
  }
 },
 "nbformat": 4,
 "nbformat_minor": 4
}
